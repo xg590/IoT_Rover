{
 "cells": [
  {
   "cell_type": "raw",
   "metadata": {},
   "source": [
    "import sys, repl, serial\n",
    "class MicroBit(): \n",
    "    def __init__(self):\n",
    "        s = serial.Serial(port     = '/dev/ttyACM0', \n",
    "                          baudrate = 115200, \n",
    "                          parity   = serial.PARITY_NONE, \n",
    "                          stopbits = serial.STOPBITS_ONE, \n",
    "                          timeout  = 0) \n",
    "            \n",
    "        self.repl = repl.REPL(s)\n",
    "        self.repl.to_raw()\n",
    "        \n",
    "    def send_command(self, cmd):\n",
    "        self.repl.send_command(cmd)\n",
    "        r = self.repl.wait_response()\n",
    "        return r.strip() \n",
    "        \n",
    "microbit = MicroBit()\n",
    "#_ = microbit.send_command(\"compass.calibrate()\")"
   ]
  },
  {
   "cell_type": "code",
   "execution_count": null,
   "metadata": {},
   "outputs": [],
   "source": [
    "import requests\n",
    "from IPython.display import clear_output \n",
    "\n",
    "import io, os, sys, ssl, time, json, socket, struct, datetime, threading\n",
    "import requests, serial, repl, random #, picamera, pigpio\n",
    "from time import gmtime, strftime, sleep\n",
    "\n",
    "server_ip = 'yzlab3.chem.nyu.edu'#'guoxiaokang.net' \n",
    "flask_port = 54323\n",
    "basic_auth_username = 'Hal?ou'\n",
    "basic_auth_password = 'Wode*%^!()'\n",
    "\n",
    "def chksum_nmea(sentence): \n",
    "    csum = 0  \n",
    "    for c in sentence: \n",
    "        csum ^= ord(c)\n",
    "    return str(hex(csum)).upper()[2:] \n",
    "\n",
    "def newGPRMC():  \n",
    "    lat, lon = 4043.831, 7359.70\n",
    "    for i in range(36,1000):\n",
    "        lat = lat + 0.003*random.randint(-50,20) \n",
    "        lon = lon + 0.003*random.randint(-20,100) \n",
    "        timestamp = strftime(\"%H%M%S\", gmtime())\n",
    "        chksum = chksum_nmea('GPRMC,{},A,{},N,0{},W,022.4,084.4,210719,003.1,W'.format(timestamp,lat,lon))  \n",
    "        yield '$GPRMC,{},A,{},N,0{},W,022.4,084.4,210719,003.1,W*{}'.format(timestamp,lat,lon,chksum)"
   ]
  },
  {
   "cell_type": "code",
   "execution_count": null,
   "metadata": {},
   "outputs": [],
   "source": [
    "def dbd():\n",
    "    for GPRMC in newGPRMC():  \n",
    "        data = {}\n",
    "        data['P'] = GPRMC \n",
    "        #data['N'] = int(microbit.send_command('print(compass.heading())') ) \n",
    "        #data['a'] = microbit.send_command(\"print(accelerometer.get_values())\") \n",
    "        requests.post(f'https://{server_ip}:{flask_port}/sensor', \n",
    "                      data=json.dumps(data), \n",
    "                      auth=(basic_auth_username, basic_auth_password)) \n",
    "        sleep(3)\n",
    "        #print(data)\n",
    "dbd()    \n",
    "#threading.Thread(target=dbd).start() "
   ]
  },
  {
   "cell_type": "raw",
   "metadata": {},
   "source": [
    "r = requests.get(f'https://{server_ip}:{flask_port}/sensor', \n",
    "                      params={'timestamp': 'newcomer'}, #1563694905.0},#\n",
    "                      auth=(basic_auth_username, basic_auth_password))\n",
    "\n",
    "r.json()"
   ]
  }
 ],
 "metadata": {
  "kernelspec": {
   "display_name": "Python 3",
   "language": "python",
   "name": "python3"
  },
  "language_info": {
   "codemirror_mode": {
    "name": "ipython",
    "version": 3
   },
   "file_extension": ".py",
   "mimetype": "text/x-python",
   "name": "python",
   "nbconvert_exporter": "python",
   "pygments_lexer": "ipython3",
   "version": "3.6.8"
  }
 },
 "nbformat": 4,
 "nbformat_minor": 2
}
