{
 "cells": [
  {
   "cell_type": "raw",
   "metadata": {},
   "source": [
    "!pip3 install pigpio # in case of this  erro: ModuleNotFoundError: No module named 'pigpio'\n",
    "!pip3 install pyserial \n",
    "!pip3 install picamera\n",
    "#!pip3 install evdev"
   ]
  },
  {
   "cell_type": "raw",
   "metadata": {},
   "source": [
    "!sudo pkill pigpiod\n",
    "!sudo pigpiod -p 8889 ### Start PiGPIO Server / Deamon          http://abyz.me.uk/rpi/pigpio/pigpiod.html"
   ]
  },
  {
   "cell_type": "code",
   "execution_count": null,
   "metadata": {},
   "outputs": [],
   "source": [
    "import io, os, sys, ssl, time, json, socket, struct, random, datetime, threading\n",
    "import serial, pigpio, picamera\n",
    "from adafruit_motorkit import MotorKit\n",
    "from IPython.display import clear_output\n",
    "\n",
    "server_ip = 'guoxiaokang.net'\n",
    "img_port = 54321\n",
    "ctrl_port = 54322 \n",
    "sensor_port = 54324\n",
    "\n",
    "server_cert_self_signed  = 'secret/server.crt' \n",
    "client_certs_self_signed = 'secret/rover.crt'\n",
    "client_key_self_signed   = 'secret/rover.key'\n",
    "\n",
    "# Establish connection with server\n",
    "context = ssl.create_default_context(ssl.Purpose.SERVER_AUTH, cafile=server_cert_self_signed)\n",
    "context.load_cert_chain(certfile=client_certs_self_signed, keyfile=client_key_self_signed)"
   ]
  },
  {
   "cell_type": "code",
   "execution_count": null,
   "metadata": {},
   "outputs": [],
   "source": [
    "#kit = MotorKit() \n",
    "pi = pigpio.pi(port=8889) ### Start PiGPIO Client\n",
    "rotation_pin, elevation_pin = 17, 27  # {sky: 1300 ~ 1700 ~ 2300 & front: 500 ~ 2500}  "
   ]
  },
  {
   "cell_type": "code",
   "execution_count": null,
   "metadata": {},
   "outputs": [],
   "source": [
    "def cmdd():\n",
    "    l = struct.calcsize('<hf')\n",
    "    while True:\n",
    "        try: \n",
    "            s = socket.socket(socket.AF_INET, socket.SOCK_STREAM)\n",
    "            ctrl_ss = context.wrap_socket(s, server_side=False, server_hostname=server_ip)\n",
    "            ctrl_ss.settimeout(30)\n",
    "            print('Try to connect the server') \n",
    "            ctrl_ss.connect((server_ip, ctrl_port))\n",
    "            print('Succeed a connection')\n",
    "            while True: \n",
    "                code, value = struct.unpack('<hf', ctrl_ss.recv(l)) \n",
    "                #print(code, value)\n",
    "                if   code == 1: kit.motor3.throttle = value\n",
    "                elif code == 2: kit.motor4.throttle = value\n",
    "                elif code == 3: pi.set_servo_pulsewidth(rotation_pin, value) \n",
    "                elif code == 4: pi.set_servo_pulsewidth(elevation_pin, value) \n",
    "        except (socket.timeout, struct.error) as e:\n",
    "            ctrl_ss.shutdown(socket.SHUT_RDWR) \n",
    "            ctrl_ss.close()\n",
    "            print('Failed to receive any data from server so that control channel closes and will reopen in 5 seconds', e)\n",
    "            time.sleep(5)      \n",
    "        except ConnectionRefusedError:\n",
    "            print('Failed to connect the server and retry in 5 seconds')\n",
    "            time.sleep(5)\n",
    "threading.Thread(target=cmdd).start()"
   ]
  },
  {
   "cell_type": "code",
   "execution_count": null,
   "metadata": {},
   "outputs": [],
   "source": [
    "pi.set_servo_pulsewidth(rotation_pin, 0) \n",
    "pi.set_servo_pulsewidth(elevation_pin, 0) "
   ]
  },
  {
   "cell_type": "code",
   "execution_count": null,
   "metadata": {},
   "outputs": [],
   "source": [
    "class SENSOR(): \n",
    "    def __init__(self):\n",
    "        self.data = {}\n",
    "        self.Temperature = 0 \n",
    "        self.interval = 3\n",
    "        nano = serial.Serial(port='/dev/ttyUSB0', baudrate=115200, timeout=3) # serial commu with gps chip\n",
    "        threading.Thread(target=self.reporter).start()\n",
    "        time.sleep(3) # wait for the readiness of sensors \n",
    "    \n",
    "    def reporter(self): \n",
    "        while True:\n",
    "            s = socket.socket(socket.AF_INET, socket.SOCK_STREAM)\n",
    "            sensor_ss = context.wrap_socket(s, server_side=False, server_hostname=server_ip)\n",
    "            sensor_ss.connect((server_ip, sensor_port))\n",
    "            while True:\n",
    "                data = {}\n",
    "                while True:\n",
    "                    data['P'] = GPRMC.__next__()\n",
    "                    break\n",
    "                data = nano.readline()\n",
    "                try:\n",
    "                    sensor_ss.send(struct.pack('<H', len(data)))\n",
    "                    sensor_ss.send(j.encode()) \n",
    "                except Exception as e:\n",
    "                    sensor_ss.shutdown(socket.SHUT_RDWR) \n",
    "                    sensor_ss.close()\n",
    "                    print('sensor channel closes and will reopen in 15 seconds', e)\n",
    "                    time.sleep(15)\n",
    "                    break   \n",
    "                time.sleep(self.interval)    \n",
    "\n",
    "sensor = SENSOR() "
   ]
  },
  {
   "cell_type": "code",
   "execution_count": null,
   "metadata": {},
   "outputs": [],
   "source": [
    "camera = picamera.PiCamera(resolution=(640, 480)) \n",
    "camera.rotation = 270\n",
    "camera.start_preview() \n",
    "time.sleep(2)\n",
    "\n",
    "# https://picamera.readthedocs.io/en/release-1.13/recipes1.html#capturing-to-a-network-stream\n",
    "# https://picamera.readthedocs.io/en/release-1.13/recipes2.html#web-streaming\n",
    "\n",
    "def imgd():\n",
    "    while True:\n",
    "        try:\n",
    "            s = socket.socket(socket.AF_INET, socket.SOCK_STREAM)\n",
    "            img_ss = context.wrap_socket(s, server_side=False, server_hostname=server_ip)\n",
    "            img_ss.connect((server_ip, img_port)) \n",
    "            img_io = img_ss.makefile('wb')\n",
    "            stream = io.BytesIO()\n",
    "            for foo in camera.capture_continuous(stream, 'jpeg'):  \n",
    "                #camera.annotate_text = f'Celsius:{sensor.Temperature.rstrip()} {dt}'  \n",
    "                img_io.write(struct.pack('<L', stream.tell()))\n",
    "                img_io.flush()\n",
    "                stream.seek(0)\n",
    "                img_io.write(stream.read()) \n",
    "                img_io.flush()\n",
    "                stream.seek(0)\n",
    "                stream.truncate()\n",
    "                time.sleep(1)\n",
    "        except Exception as e:\n",
    "            print(e)\n",
    "            time.sleep(15)\n",
    "    \n",
    "threading.Thread(target=imgd).start() "
   ]
  }
 ],
 "metadata": {
  "kernelspec": {
   "display_name": "Python 3",
   "language": "python",
   "name": "python3"
  },
  "language_info": {
   "codemirror_mode": {
    "name": "ipython",
    "version": 3
   },
   "file_extension": ".py",
   "mimetype": "text/x-python",
   "name": "python",
   "nbconvert_exporter": "python",
   "pygments_lexer": "ipython3",
   "version": "3.7.3"
  }
 },
 "nbformat": 4,
 "nbformat_minor": 2
}
