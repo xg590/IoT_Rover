{
 "cells": [
  {
   "cell_type": "raw",
   "metadata": {},
   "source": [
    "!pip3 install pigpio # in case of this  erro: ModuleNotFoundError: No module named 'pigpio'\n",
    "!pip3 install pyserial \n",
    "!pip3 install picamera"
   ]
  },
  {
   "cell_type": "code",
   "execution_count": null,
   "metadata": {},
   "outputs": [],
   "source": [
    "#!sudo pkill pigpiod\n",
    "#!sudo pigpiod -p 8889 ### Start PiGPIO Server / Deamon          http://abyz.me.uk/rpi/pigpio/pigpiod.html"
   ]
  },
  {
   "cell_type": "code",
   "execution_count": null,
   "metadata": {},
   "outputs": [],
   "source": [
    "import io, os, sys, ssl, time, json, socket, struct, random, datetime, threading\n",
    "import serial, pigpio, picamera\n",
    "from adafruit_motorkit import MotorKit\n",
    "\n",
    "server_ip = 'guoxiaokang.net'\n",
    "img_port = 54321\n",
    "ctrl_port = 54322 \n",
    "sensor_port = 54324\n",
    "\n",
    "server_cert_self_signed  = 'secret/server.crt' \n",
    "client_certs_self_signed = 'secret/rover.crt'\n",
    "client_key_self_signed   = 'secret/rover.key'\n",
    "\n",
    "# Establish connection with server\n",
    "context = ssl.create_default_context(ssl.Purpose.SERVER_AUTH, cafile=server_cert_self_signed)\n",
    "context.load_cert_chain(certfile=client_certs_self_signed, keyfile=client_key_self_signed)"
   ]
  },
  {
   "cell_type": "code",
   "execution_count": null,
   "metadata": {},
   "outputs": [],
   "source": [
    "kit = MotorKit() \n",
    "pi = pigpio.pi(port=8889) ### Start PiGPIO Client\n",
    "rotation_pin, elevation_pin = 17, 27  # {sky: 1300 ~ 1700 ~ 2300 & front: 500 ~ 2500} \n",
    "rotate = lambda val: pi.set_servo_pulsewidth(rotation_pin, val) \n",
    "elevate = lambda val: pi.set_servo_pulsewidth(elevation_pin, val) "
   ]
  },
  {
   "cell_type": "code",
   "execution_count": null,
   "metadata": {},
   "outputs": [],
   "source": [
    "rotate(2200) # 600 ~ back 1000 ~ front 2200 ~ 2500"
   ]
  },
  {
   "cell_type": "code",
   "execution_count": null,
   "metadata": {},
   "outputs": [],
   "source": [
    "elevate(1850)"
   ]
  },
  {
   "cell_type": "code",
   "execution_count": null,
   "metadata": {},
   "outputs": [],
   "source": [
    "for i in range(700, 2300, 100):\n",
    "    elevate(i) # down [1500  ~ 1800 ~ 2350\n",
    "    time.sleep(1)"
   ]
  },
  {
   "cell_type": "code",
   "execution_count": null,
   "metadata": {},
   "outputs": [],
   "source": [
    "time.sleep(3)\n",
    "kit.motor3.throttle = 1.0\n",
    "kit.motor4.throttle = 1.0\n",
    "time.sleep(1)\n",
    "kit.motor3.throttle = 0\n",
    "kit.motor4.throttle = 0"
   ]
  },
  {
   "cell_type": "code",
   "execution_count": null,
   "metadata": {},
   "outputs": [],
   "source": [
    "!pip3 install evdev"
   ]
  },
  {
   "cell_type": "code",
   "execution_count": null,
   "metadata": {},
   "outputs": [],
   "source": [
    "from evdev import InputDevice, ecodes\n",
    "device = InputDevice('/dev/input/event0')   # Events for Xbox One S Wireless Controller"
   ]
  },
  {
   "cell_type": "code",
   "execution_count": null,
   "metadata": {},
   "outputs": [],
   "source": []
  },
  {
   "cell_type": "code",
   "execution_count": null,
   "metadata": {},
   "outputs": [],
   "source": [
    "class XboxController():\n",
    "    def __init__(self):\n",
    "        self.rotation_rear     = 1000 # back 1000 ~ front 2200\n",
    "        self.rotation_front    = 2200 \n",
    "        self.elevation_horiz   = 1850 \n",
    "        self.gimbal_sensitivity= 0.01 \n",
    "        self.rot = self.rotation_front\n",
    "        self.ele = self.elevation_horiz \n",
    "    def action(self, code, value):    # 31000 32000  1111  \n",
    "        if code == 0 and (value > 37000 or value < 34000):     # 0    ->  ABS_X      ->  trn \n",
    "            increment = (value - 33000)*self.turn_sensitivity   \n",
    "        elif code == 1 and (value > 32000 or value < 31000):   # 1    ->  ABS_Y      ->  go \n",
    "            increment = (value - 31500)*self.turn_sensitivity  \n",
    "        elif code == 2 and (value > 34000 or value < 31000):   # 2    ->  ABS_Z      ->  rot  \n",
    "            self.rot += (value - 33000)*self.gimbal_sensitivity \n",
    "            if   self.rot > self.rotation_front: self.rot = self.rotation_front\n",
    "            elif self.rot < self.rotation_rear : self.rot = self.rotation_rear\n",
    "            return code, int(self.rot) \n",
    "        elif code == 5 and (value > 35000 or value < 33000):   # 5    ->  ABS_RZ     ->  ele     \n",
    "            self.ele -= (value - 33000)*self.gimbal_sensitivity \n",
    "            if   self.ele > 2500: self.ele = 2500\n",
    "            elif self.ele < 500 : self.ele = 500\n",
    "            return code, int(self.ele) \n",
    "        return 999, None \n",
    "        \n",
    "xbox = XboxController() "
   ]
  },
  {
   "cell_type": "code",
   "execution_count": null,
   "metadata": {},
   "outputs": [],
   "source": [
    "for event in device.read_loop(): \n",
    "    if event.type in [ecodes.EV_ABS, ecodes.EV_KEY]: \n",
    "        code, value = xbox.action(event.code, event.value)\n",
    "        if code == 2:\n",
    "            rotate(value)\n",
    "        elif code == 5:\n",
    "            elevate(value)"
   ]
  },
  {
   "cell_type": "code",
   "execution_count": null,
   "metadata": {},
   "outputs": [],
   "source": [
    "class XboxController():\n",
    "    def __init__(self):\n",
    "        self.rotation_rear     = 1000 # back 1000 ~ front 2200\n",
    "        self.rotation_front    = 2200 \n",
    "        self.elevation_horiz   = 1850 \n",
    "        self.gimbal_sensitivity= 0.01\n",
    "        self.rot = self.rotation_front\n",
    "        self.ele = self.elevation_horiz \n",
    "    def action(self, code, value):   \n",
    "        if code == 0 and (value > 37000 or value < 34000):     # 0    ->  ABS_X      ->  trn \n",
    "            increment = (value - 33000)*self.turn_sensitivity\n",
    "            self.top += increment\n",
    "            if   self.top > self.turn_right_top: self.top = self.turn_right_top\n",
    "            elif self.top < self.turn_left_top : self.top = self.turn_left_top \n",
    "            self.bot -= increment\n",
    "            if   self.bot > self.turn_left_bottom : self.bot = self.turn_left_bottom\n",
    "            elif self.bot < self.turn_right_bottom: self.bot = self.turn_right_bottom   \n",
    "            sc_rover.send(struct.pack('<Hi', code, int(self.top)))  \n",
    "        elif code == 2 and (value > 34000 or value < 31000):   # 2    ->  ABS_Z      ->  rot  \n",
    "            self.rot -= (value - 33000)*self.gimbal_sensitivity\n",
    "            if   self.rot > self.rotation_rear : self.rot = self.rotation_rear \n",
    "            elif self.rot < self.rotation_front: self.rot = self.rotation_front\n",
    "            sc_rover.send(struct.pack('<Hi', code, int(self.rot)))\n",
    "        elif code == 5 and (value > 35000 or value < 33000):   # 5    ->  ABS_RZ     ->  ele     \n",
    "            self.ele += (value - 33000)*self.gimbal_sensitivity \n",
    "            if   self.ele > self.elevation_horiz: self.ele = self.elevation_horiz\n",
    "            elif self.ele < self.elevation_sky  : self.ele = self.elevation_sky \n",
    "            sc_rover.send(struct.pack('<Hi', code, int(self.ele)))\n",
    "        elif code ==  10:\n",
    "            #if value \n",
    "            sc_rover.send(struct.pack('<Hi', code, int(value/1023*255)))     # 10   ->  ABS_BRAKE  ->  rev  \n",
    "        elif code ==   9: \n",
    "            sc_rover.send(struct.pack('<Hi', code, int(value/1023*255)))     # 9    ->  ABS_GAS    ->  drv   \n",
    "        elif code ==  16: # sensitivity\n",
    "            enum = [0.00001, 0.0001, 0.001, 0.01]\n",
    "            idx  = enum.index(self.turn_sensitivity) \n",
    "            idx += value \n",
    "            if idx >= 0 and idx < len(enum): \n",
    "                self.turn_sensitivity = enum[idx]  \n",
    "        elif code ==  17: # sensitivity\n",
    "            enum = [0.00001, 0.0001, 0.001, 0.01]\n",
    "            idx  = enum.index(self.gimbal_sensitivity) \n",
    "            idx -= value \n",
    "            if idx >= 0 and idx < len(enum): \n",
    "                self.gimbal_sensitivity = enum[idx] \n",
    "        elif code == 304: sc_rover.send(struct.pack('<Hi', code, 1350))     # 304  ->  BTN_A      ->  rst\n",
    "        elif code == 305: \n",
    "            global Sensor\n",
    "            if Sensor['focus'] == 'true': \n",
    "                Sensor['focus'] = 'false'\n",
    "            else:\n",
    "                Sensor['focus'] = 'true'\n",
    "xbox = XboxController() "
   ]
  },
  {
   "cell_type": "code",
   "execution_count": null,
   "metadata": {},
   "outputs": [],
   "source": [
    "code2name = {}\n",
    "for type_, code_ in device.capabilities(verbose=True, absinfo=False).items(): \n",
    "    if type_[0] in ['EV_KEY', 'EV_ABS']:\n",
    "        for name, code in code_:  \n",
    "            if isinstance(name,list): \n",
    "                if   'BTN_A' in name: code2name[code] = 'BTN_A'  \n",
    "                elif 'BTN_B' in name: code2name[code] = 'BTN_B'   \n",
    "                elif 'BTN_X' in name: code2name[code] = 'BTN_X'  \n",
    "                elif 'BTN_Y' in name: code2name[code] = 'BTN_Y'  \n",
    "                continue\n",
    "            code2name[code] = name\n",
    "print(code2name)"
   ]
  },
  {
   "cell_type": "code",
   "execution_count": null,
   "metadata": {},
   "outputs": [],
   "source": [
    "if 1:\n",
    "    #def ctrd():\n",
    "    l = struct.calcsize('<hi')\n",
    "    while True:\n",
    "        try:\n",
    "            print('Try !')\n",
    "            s = socket.socket(socket.AF_INET, socket.SOCK_STREAM)\n",
    "            ctrl_ss = context.wrap_socket(s, server_side=False, server_hostname=server_ip)\n",
    "            ctrl_ss.settimeout(30)\n",
    "            print('Try to connect the server')\n",
    "            ctrl_ss.connect((server_ip, ctrl_port))\n",
    "            print('Succeed a connection')\n",
    "            while True: \n",
    "                code, value = struct.unpack('<hi', ctrl_ss.recv(l)) \n",
    "                continue \n",
    "                elif code ==  2: pi.set_servo_pulsewidth(rotation_pin, value) \n",
    "                elif code ==  5: pi.set_servo_pulsewidth(elevation_pin, value)\n",
    "                elif code ==304 and value: servo([top_pin, bottom_pin], [1350, 1950]) \n",
    "        except (socket.timeout, struct.error) as e:\n",
    "            ctrl_ss.shutdown(socket.SHUT_RDWR) \n",
    "            ctrl_ss.close()\n",
    "            print('Failed to receive any data from server so that control channel closes and will reopen in 5 seconds', e)\n",
    "            time.sleep(5)      \n",
    "        except ConnectionRefusedError:\n",
    "            print('Failed to connect the server and retry in 5 seconds')\n",
    "            time.sleep(5)\n",
    "#threading.Thread(target=ctrd).start()"
   ]
  },
  {
   "cell_type": "code",
   "execution_count": null,
   "metadata": {},
   "outputs": [],
   "source": [
    "def chksum_nmea(sentence): \n",
    "    csum = 0  \n",
    "    for c in sentence: \n",
    "        csum ^= ord(c)\n",
    "    return str(hex(csum)).upper()[2:] \n",
    "\n",
    "def newGPRMC():  \n",
    "    lat, lon = 4043.831, 7359.70\n",
    "    for i in range(36,1000):\n",
    "        lat = lat + 0.003*random.randint(-50,20) \n",
    "        lon = lon + 0.003*random.randint(-20,100) \n",
    "        timestamp = time.strftime(\"%H%M%S\", time.gmtime())\n",
    "        chksum = chksum_nmea('GPRMC,{},A,{},N,0{},W,022.4,084.4,210719,003.1,W'.format(timestamp,lat,lon))  \n",
    "        yield '$GPRMC,{},A,{},N,0{},W,022.4,084.4,210719,003.1,W*{}'.format(timestamp,lat,lon,chksum)\n",
    "GPRMC = newGPRMC() # gps_simulator, when I need to test tracking system"
   ]
  },
  {
   "cell_type": "code",
   "execution_count": null,
   "metadata": {},
   "outputs": [],
   "source": [
    "class SENSOR(): \n",
    "    def __init__(self):\n",
    "        self.data = {}\n",
    "        self.Temperature = 0 \n",
    "        self.interval = 3\n",
    "        self.sg = serial.Serial(port='/dev/ttyS0', baudrate=9600, timeout=3) # serial commu with gps chip\n",
    "        sm = serial.Serial(port='/dev/ttyACM0', baudrate=115200, parity=serial.PARITY_NONE, stopbits=serial.STOPBITS_ONE, timeout=0) # serial commu with microbit\n",
    "        self.repl = repl.REPL(sm) \n",
    "        self.repl.to_raw()\n",
    "        threading.Thread(target=self.reporter).start()\n",
    "        time.sleep(3) # wait for the readiness of sensors \n",
    "    \n",
    "    def reporter(self): \n",
    "        while True:\n",
    "            s = socket.socket(socket.AF_INET, socket.SOCK_STREAM)\n",
    "            sensor_ss = context.wrap_socket(s, server_side=False, server_hostname=server_ip)\n",
    "            sensor_ss.connect((server_ip, sensor_port))\n",
    "            while True:\n",
    "                data = {}\n",
    "                while True:\n",
    "                    data['P'] = GPRMC.__next__()\n",
    "                    break\n",
    "                    if gprmc[0:6] == b'$GPRMC': data['P'] = self.sg.readline() # You can get GPS data only if the on-board LED blinks.  \n",
    "                self.repl.send_command(\"print(temperature())\") \n",
    "                self.Temperature = self.repl.wait_response().rstrip()\n",
    "                self.repl.send_command(\"print(accelerometer.get_values())\") \n",
    "                data['a'] = self.repl.wait_response()\n",
    "                self.repl.send_command(\"print(compass.heading())\") \n",
    "                data['N'] = self.repl.wait_response()\n",
    "                j = json.dumps(data)\n",
    "                try:\n",
    "                    sensor_ss.send(struct.pack('<H', len(j)))\n",
    "                    sensor_ss.send(j.encode()) \n",
    "                except Exception as e:\n",
    "                    sensor_ss.shutdown(socket.SHUT_RDWR) \n",
    "                    sensor_ss.close()\n",
    "                    print('sensor channel closes and will reopen in 15 seconds', e)\n",
    "                    time.sleep(15)\n",
    "                    break   \n",
    "                time.sleep(self.interval)    \n",
    "\n",
    "sensor = SENSOR() "
   ]
  },
  {
   "cell_type": "code",
   "execution_count": null,
   "metadata": {},
   "outputs": [],
   "source": [
    "camera = picamera.PiCamera(resolution=(640, 480)) \n",
    "camera.rotation = 270\n",
    "camera.start_preview() \n",
    "time.sleep(2)\n",
    "\n",
    "# https://picamera.readthedocs.io/en/release-1.13/recipes1.html#capturing-to-a-network-stream\n",
    "# https://picamera.readthedocs.io/en/release-1.13/recipes2.html#web-streaming\n",
    "\n",
    "def imgd():\n",
    "    while True:\n",
    "        try:\n",
    "            s = socket.socket(socket.AF_INET, socket.SOCK_STREAM)\n",
    "            img_ss = context.wrap_socket(s, server_side=False, server_hostname=server_ip)\n",
    "            img_ss.connect((server_ip, img_port)) \n",
    "            img_io = img_ss.makefile('wb')\n",
    "            stream = io.BytesIO()\n",
    "            for foo in camera.capture_continuous(stream, 'jpeg'): \n",
    "                dt = datetime.datetime.now().strftime('@ %H:%M:%S %b %d %Y')\n",
    "                camera.annotate_text = f'Celsius:{sensor.Temperature.rstrip()} {dt}'  \n",
    "                img_io.write(struct.pack('<L', stream.tell()))\n",
    "                img_io.flush()\n",
    "                stream.seek(0)\n",
    "                img_io.write(stream.read()) \n",
    "                img_io.flush()\n",
    "                stream.seek(0)\n",
    "                stream.truncate()\n",
    "                time.sleep(1)\n",
    "        except Exception as e:\n",
    "            print(e)\n",
    "            time.sleep(15)\n",
    "    \n",
    "threading.Thread(target=imgd).start() "
   ]
  }
 ],
 "metadata": {
  "kernelspec": {
   "display_name": "Python 3",
   "language": "python",
   "name": "python3"
  },
  "language_info": {
   "codemirror_mode": {
    "name": "ipython",
    "version": 3
   },
   "file_extension": ".py",
   "mimetype": "text/x-python",
   "name": "python",
   "nbconvert_exporter": "python",
   "pygments_lexer": "ipython3",
   "version": "3.7.4"
  }
 },
 "nbformat": 4,
 "nbformat_minor": 2
}
