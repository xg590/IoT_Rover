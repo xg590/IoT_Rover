{
 "cells": [
  {
   "cell_type": "raw",
   "metadata": {},
   "source": [
    "!pip install pigpio # in case of this  erro: ModuleNotFoundError: No module named 'pigpio'\n",
    "!pip install pyserial\n",
    "!pip install requests"
   ]
  },
  {
   "cell_type": "code",
   "execution_count": null,
   "metadata": {},
   "outputs": [],
   "source": [
    "import io, os, sys, ssl, time, json, socket, struct, datetime, threading\n",
    "import requests, serial, repl, picamera, pigpio\n",
    "\n",
    "server_ip  = 'yzlab3.chem.nyu.edu'#'guoxiaokang.net'\n",
    "img_port   = 54321\n",
    "ctrl_port  = 54322\n",
    "flask_port = 54323\n",
    "basic_auth_username = 'Hal?ou'\n",
    "basic_auth_password = 'Wode*%^!()'\n",
    "\n",
    "server_cert = f'{os.environ[\"HOME\"]}/openssl/server.crt' \n",
    "client_cert = f'{os.environ[\"HOME\"]}/openssl/rover.crt'\n",
    "client_key  = f'{os.environ[\"HOME\"]}/openssl/rover.key'\n",
    "\n",
    "# Establish connection with server\n",
    "context = ssl.create_default_context(ssl.Purpose.SERVER_AUTH, cafile=server_cert)\n",
    "context.load_cert_chain(certfile=client_cert, keyfile=client_key)"
   ]
  },
  {
   "cell_type": "code",
   "execution_count": null,
   "metadata": {},
   "outputs": [],
   "source": [
    "class Sensor(): \n",
    "    def __init__(self):\n",
    "        self.data = {}\n",
    "        self.Temperature = 0 \n",
    "        self.interval = 1\n",
    "        self.serial_port = '/dev/ttyS0'\n",
    "        self.usb_port = '/dev/ttyACM0'\n",
    "        #threading.Thread(target=self.gps).start()   \n",
    "        threading.Thread(target=self.microbit).start()\n",
    "        time.sleep(3)\n",
    "    \n",
    "    def gps(self): \n",
    "        s = serial.Serial(port=self.serial_port, baudrate=9600, timeout=3)\n",
    "        while True:\n",
    "            gprmc = s.readline() # You can get GPS data if the on-board LED blinks.\n",
    "            if gprmc[0:6] == b'$GPRMC': self.data['P'] = gprmc     \n",
    "            time.sleep(self.interval)\n",
    "            \n",
    "    def microbit(self):             \n",
    "        s = serial.Serial(port     = self.usb_port, \n",
    "                          baudrate = 115200, \n",
    "                          parity   = serial.PARITY_NONE, \n",
    "                          stopbits = serial.STOPBITS_ONE, \n",
    "                          timeout  = 0)\n",
    "        self.repl = repl.REPL(s)\n",
    "        self.repl.to_raw()\n",
    "        while True:\n",
    "            self.repl.send_command(\"print(temperature())\") \n",
    "            self.Temperature = self.repl.wait_response().rstrip()\n",
    "            self.repl.send_command(\"print(accelerometer.get_values())\") \n",
    "            self.data['a'] = self.repl.wait_response()\n",
    "            self.repl.send_command(\"print(compass.heading())\") \n",
    "            self.data['N'] = self.repl.wait_response()\n",
    "            time.sleep(self.interval)\n",
    "\n",
    "sensor = Sensor() "
   ]
  },
  {
   "cell_type": "code",
   "execution_count": null,
   "metadata": {},
   "outputs": [],
   "source": [
    "camera = picamera.PiCamera(resolution=(640, 480)) \n",
    "camera.rotation = 270\n",
    "camera.start_preview() \n",
    "time.sleep(2)\n",
    "\n",
    "# https://picamera.readthedocs.io/en/release-1.13/recipes1.html#capturing-to-a-network-stream\n",
    "# https://picamera.readthedocs.io/en/release-1.13/recipes2.html#web-streaming\n",
    "\n",
    "def imgd():\n",
    "    while True:\n",
    "        try:\n",
    "            s = socket.socket(socket.AF_INET, socket.SOCK_STREAM)\n",
    "            img_ss = context.wrap_socket(s, server_side=False, server_hostname=server_ip)\n",
    "            img_ss.connect((server_ip, img_port)) \n",
    "            img_io = img_ss.makefile('wb')\n",
    "            stream = io.BytesIO()\n",
    "            for foo in camera.capture_continuous(stream, 'jpeg'): \n",
    "                dt = datetime.datetime.now().strftime('@ %H:%M:%S %b %d %Y')\n",
    "                camera.annotate_text = f'Celsius:{sensor.Temperature.rstrip()} {dt}'  \n",
    "                img_io.write(struct.pack('<L', stream.tell()))\n",
    "                img_io.flush()\n",
    "                stream.seek(0)\n",
    "                img_io.write(stream.read()) \n",
    "                img_io.flush()\n",
    "                stream.seek(0)\n",
    "                stream.truncate()\n",
    "                time.sleep(1)\n",
    "        except Exception as e:\n",
    "            print(e)\n",
    "            time.sleep(15)\n",
    "    \n",
    "threading.Thread(target=imgd).start() "
   ]
  },
  {
   "cell_type": "code",
   "execution_count": null,
   "metadata": {},
   "outputs": [],
   "source": [
    "!sudo pkill pigpiod\n",
    "!sudo pigpiod -p 8889 ### Start PiGPIO Server / Deamon          http://abyz.me.uk/rpi/pigpio/pigpiod.html\n",
    "pi = pigpio.pi(port=8889) ### Start PiGPIO Client \n",
    "servo = lambda l1, l2: [pi.set_servo_pulsewidth(_1, _2) for _1, _2 in zip(l1, l2)]\n",
    "motor = lambda l1, l2: [pi.set_PWM_dutycycle(   _1, _2) for _1, _2 in zip(l1, l2)]\n",
    "drive_pin, reverse_pin      = 16, 20 \n",
    "elevation_pin, rotation_pin = 26, 19\n",
    "top_pin, bottom_pin         =  6, 13  # {top:900 ~ 1800 , bottom: 1500 ~ 2350}\n",
    "\n",
    "s = socket.socket(socket.AF_INET, socket.SOCK_STREAM)\n",
    "ctrl_ss = context.wrap_socket(s, server_side=False, server_hostname=server_ip)\n",
    "ctrl_ss.connect((server_ip, ctrl_port))  \n",
    "\n",
    "def ctrd():      \n",
    "    l = struct.calcsize('<Hi')\n",
    "    while True:\n",
    "        code, value = struct.unpack('<Hi', ctrl_ss.recv(l))\n",
    "        if   code ==  0: servo([top_pin, bottom_pin], [value, 3300-value]) \n",
    "        elif code ==  2: pi.set_servo_pulsewidth(rotation_pin , value) \n",
    "        elif code ==  5: pi.set_servo_pulsewidth(elevation_pin, value) \n",
    "        elif code == 10: motor([drive_pin, reverse_pin], [0, value])  # break\n",
    "        elif code ==  9: motor([reverse_pin, drive_pin], [0, value])  # gas\n",
    "        elif code ==304 and value: servo([top_pin, bottom_pin], [1350, 1950])  \n",
    "            \n",
    "threading.Thread(target=ctrd).start()"
   ]
  },
  {
   "cell_type": "code",
   "execution_count": null,
   "metadata": {},
   "outputs": [],
   "source": [
    "def antiShakingd():      \n",
    "    while True: \n",
    "        servo([top_pin, bottom_pin, rotation_pin, elevation_pin], [0, 0, 0, 0]) \n",
    "        time.sleep(1)\n",
    "threading.Thread(target=antiShakingd).start()"
   ]
  },
  {
   "cell_type": "code",
   "execution_count": null,
   "metadata": {},
   "outputs": [],
   "source": [
    "def reporter():\n",
    "    while True:\n",
    "        time.sleep(1)\n",
    "        requests.post(f'https://{server_ip}:{flask_port}/sensor', \n",
    "                      data=json.dumps(sensor.data), \n",
    "                      auth=(basic_auth_username, basic_auth_password)) \n",
    "#reporter()\n",
    "threading.Thread(target=reporter).start()"
   ]
  }
 ],
 "metadata": {
  "kernelspec": {
   "display_name": "Python 3",
   "language": "python",
   "name": "python3"
  },
  "language_info": {
   "codemirror_mode": {
    "name": "ipython",
    "version": 3
   },
   "file_extension": ".py",
   "mimetype": "text/x-python",
   "name": "python",
   "nbconvert_exporter": "python",
   "pygments_lexer": "ipython3",
   "version": "3.7.3"
  }
 },
 "nbformat": 4,
 "nbformat_minor": 2
}
