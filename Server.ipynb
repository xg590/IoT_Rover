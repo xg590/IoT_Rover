{
 "cells": [
  {
   "cell_type": "raw",
   "metadata": {},
   "source": [
    "!pip install flask flask_basicauth flask_cors "
   ]
  },
  {
   "cell_type": "code",
   "execution_count": null,
   "metadata": {},
   "outputs": [],
   "source": [
    "import io, os, ssl, ast, json, http, socket, queue, struct, sqlite3, threading, logging, datetime \n",
    "import flask, flask_basicauth, flask_cors  \n",
    "#from IPython.display import clear_output\n",
    "\n",
    "server_ip    = 'guoxiaokang.net'\n",
    "img_port     = 54321\n",
    "ctrl_port    = 54322\n",
    "flask_port   = 54323\n",
    "sensor_port  = 54324\n",
    "\n",
    "with open('src/map.html', 'r') as fr: mapPage = fr.read()\n",
    "with open('src/rainbow.jpg', 'rb') as fr: rainbow = fr.read() \n",
    "with open('secret/basicAuth.conf', 'r') as fr: basicAuth = fr.read()\n",
    "basic_auth_username = basicAuth.split('\\n')[0]\n",
    "basic_auth_password = basicAuth.split('\\n')[1]\n",
    "server_cert_letsencrypt  = f'{os.environ[\"HOME\"]}/openssl/fullchain.pem'  # secret of my apache and flask site\n",
    "server_key_letsencrypt   = f'{os.environ[\"HOME\"]}/openssl/privkey.pem'    # secret of my apache and flask site\n",
    "server_cert_self_signed  = 'secret/server.crt'    # shared with both rover and driver for identity authentication of server \n",
    "server_key_self_signed   = 'secret/server.key'    \n",
    "client_certs_self_signed = 'secret/clients.crt'   # for identity authentication of rover and driver\n",
    "\n",
    "ssl_context_self_signed = ssl.create_default_context(ssl.Purpose.CLIENT_AUTH, cafile=client_certs_self_signed)  \n",
    "ssl_context_self_signed.verify_mode = ssl.CERT_REQUIRED\n",
    "ssl_context_self_signed.load_cert_chain(certfile=server_cert_self_signed, keyfile=server_key_self_signed) "
   ]
  },
  {
   "cell_type": "code",
   "execution_count": null,
   "metadata": {},
   "outputs": [],
   "source": [
    "def getCommonName(sc):\n",
    "    for i in sc.getpeercert()['subject']:\n",
    "        if i[0][0]=='commonName':\n",
    "            return i[0][1]\n",
    "        \n",
    "ctrl_socket = socket.socket(socket.AF_INET, socket.SOCK_STREAM)\n",
    "ctrl_socket.setsockopt(socket.SOL_SOCKET, socket.SO_REUSEADDR, 1)\n",
    "ctrl_socket.bind((server_ip, ctrl_port))\n",
    "ctrl_socket.listen(0)"
   ]
  },
  {
   "cell_type": "code",
   "execution_count": null,
   "metadata": {
    "code_folding": []
   },
   "outputs": [],
   "source": [
    "class ProactivelyEndConnection(Exception): pass\n",
    "class ConnectionHasEnded(Exception): pass\n",
    "\n",
    "def transceiver(clients): \n",
    "    sc_rover  = clients['rover' ]\n",
    "    sc_driver = clients['driver']   \n",
    "    print('Both ends connected with the Server ~')\n",
    "    while True:\n",
    "        try:\n",
    "            data = sc_driver.recv(8) # struct.calcsize('<hi')   \n",
    "        except socket.timeout:\n",
    "            raise ProactivelyEndConnection('driver') \n",
    "        except struct.error as e:\n",
    "            print('received nothing from driver side')\n",
    "            raise ProactivelyEndConnection('driver') \n",
    "        except ConnectionResetError:\n",
    "            print('rover ConnectionResetError')\n",
    "            raise ConnectionHasEnded('driver') \n",
    "        try:\n",
    "            sc_rover.send(data) # Send code and value to server \n",
    "        except socket.timeout:\n",
    "            print('rover timeout')\n",
    "            raise ProactivelyEndConnection('rover')\n",
    "        except BrokenPipeError:\n",
    "            print('rover BrokenPipeError')\n",
    "            raise ConnectionHasEnded('rover') \n",
    "        except ConnectionResetError:\n",
    "            print('rover ConnectionResetError')\n",
    "            raise ConnectionHasEnded('rover') "
   ]
  },
  {
   "cell_type": "code",
   "execution_count": null,
   "metadata": {},
   "outputs": [],
   "source": [
    "clients = {}\n",
    "#def ctrld():\n",
    "if 1:\n",
    "    while True:\n",
    "        try:\n",
    "            print(f\"Waiting for incoming connection\")\n",
    "            c, a = ctrl_socket.accept() \n",
    "            sc = ssl_context_self_signed.wrap_socket(c, server_side=True)\n",
    "            sc.settimeout(30)\n",
    "            client_name = getCommonName(sc)\n",
    "            print(f\"Connection with {client_name} established ~\")\n",
    "            clients[client_name] = sc\n",
    "            print(clients)\n",
    "            if len(clients) == 2:\n",
    "                transceiver(clients) \n",
    "        except ConnectionHasEnded:\n",
    "            pass\n",
    "        except ProactivelyEndConnection as e:\n",
    "            client_name = e.__str__()               # name of broken secure socket\n",
    "            old_sc = clients.pop(client_name)       # get the socket \n",
    "            old_sc.shutdown(socket.SHUT_RDWR)       # explicitly close the socket \n",
    "            old_sc.close()            \n",
    "            print(f\"Old connection from {client_name} is timed-out and closed\") \n",
    "        \n",
    "#threading.Thread(target=ctrld).start()"
   ]
  },
  {
   "cell_type": "code",
   "execution_count": null,
   "metadata": {},
   "outputs": [],
   "source": [
    "raise"
   ]
  },
  {
   "cell_type": "code",
   "execution_count": null,
   "metadata": {},
   "outputs": [],
   "source": [
    "def ctrd():\n",
    "    l = struct.calcsize('<hi')\n",
    "    while True: xbox.action(*struct.unpack('<hi', sc_driver.recv(l))) \n",
    "# this background thread will monitor axis event and modify variable axis in a real-time manner\n",
    "threading.Thread(target=ctrd).start()"
   ]
  },
  {
   "cell_type": "markdown",
   "metadata": {},
   "source": [
    "#### A standalone thread is responsible for image cache"
   ]
  },
  {
   "cell_type": "code",
   "execution_count": null,
   "metadata": {
    "code_folding": []
   },
   "outputs": [],
   "source": [
    "class MJPEG():\n",
    "    def __init__(self):\n",
    "        self.frame = rainbow # default image\n",
    "        self.long  = struct.calcsize('<L')  \n",
    "        threading.Thread(target=self.imgd).start() \n",
    "\n",
    "    def imgd(self): \n",
    "        s = socket.socket(socket.AF_INET, socket.SOCK_STREAM)\n",
    "        s.setsockopt(socket.SOL_SOCKET, socket.SO_REUSEADDR, 1)\n",
    "        s.bind((server_ip, img_port))\n",
    "        s.listen(0)\n",
    "        while True: \n",
    "            c, a = s.accept() \n",
    "            conn = ssl_context_self_signed.wrap_socket(c, server_side=True).makefile('rb')\n",
    "            while True:\n",
    "                try:\n",
    "                    img_len, = struct.unpack('<L', conn.read(self.long)) \n",
    "                    self.frame = conn.read(img_len) \n",
    "                except Exception as e:\n",
    "                    print(e, a)\n",
    "                    break                    \n",
    "mjpeg = MJPEG()"
   ]
  },
  {
   "cell_type": "markdown",
   "metadata": {},
   "source": [
    "#### A class taking care of database operation\n",
    "the newcomer need to retrieve all GPS tracking data and that's the reason of involving a database "
   ]
  },
  {
   "cell_type": "code",
   "execution_count": null,
   "metadata": {},
   "outputs": [],
   "source": [
    "q_in, q_out = queue.Queue(), queue.Queue()  \n",
    "def dbd(): # avoid sqlite3.ProgrammingError: SQLite objects created in a thread can only be used in that same thread.\n",
    "    #db = sqlite3.connect(\":memory:\")\n",
    "    try:\n",
    "        os.remove(\"GPS.db\")\n",
    "    except:\n",
    "        pass\n",
    "    db = sqlite3.connect(\"GPS.db\")\n",
    "    cur = db.cursor() \n",
    "    cur.execute(\"SELECT name FROM sqlite_master WHERE type='table' AND name=?\", ('tracking',))\n",
    "    if not cur.fetchone(): cur.execute(\"CREATE TABLE tracking (lat, lon, timestamp)\") \n",
    "    while True:\n",
    "        item = q_in.get()\n",
    "        if isinstance(item, tuple):\n",
    "            cur.execute(\"INSERT INTO tracking (lat, lon, timestamp) VALUES (?, ?, ?)\", item) \n",
    "        else: \n",
    "            if item == 'newcomer':\n",
    "                cur.execute(\"SELECT lon, lat, timestamp FROM tracking WHERE timestamp=(SELECT MIN(timestamp) FROM tracking)\") \n",
    "            else:\n",
    "                cur.execute(\"SELECT lon, lat, timestamp FROM tracking WHERE timestamp>=?\", (float(item),))\n",
    "            q_out.put(cur.fetchall())\n",
    "        q_in.task_done()\n",
    "        \n",
    "threading.Thread(target=dbd).start() "
   ]
  },
  {
   "cell_type": "markdown",
   "metadata": {},
   "source": [
    "#### A standalone thread is responsible for sensor logging (plus GPS logging/insertion)"
   ]
  },
  {
   "cell_type": "code",
   "execution_count": null,
   "metadata": {
    "code_folding": []
   },
   "outputs": [],
   "source": [
    "class SENSOR():\n",
    "    def __init__(self):\n",
    "        self.data = {'N':0, 'x':0, 'y':0, 'z':0, 'focus':'true'}\n",
    "        self.long  = struct.calcsize('<H')  \n",
    "        threading.Thread(target=self.updaterd).start() \n",
    "\n",
    "    def updaterd(self):\n",
    "        s = socket.socket(socket.AF_INET, socket.SOCK_STREAM)\n",
    "        s.setsockopt(socket.SOL_SOCKET, socket.SO_REUSEADDR, 1)\n",
    "        s.bind((server_ip, sensor_port))\n",
    "        s.listen(0)\n",
    "        while True: \n",
    "            c, a = s.accept() \n",
    "            conn = ssl_context_self_signed.wrap_socket(c, server_side=True).makefile('rb')\n",
    "            while True:\n",
    "                try:\n",
    "                    data_len, = struct.unpack('<H', conn.read(self.long)) \n",
    "                    j = json.loads(conn.read(data_len))   \n",
    "                    if 'P' in j: \n",
    "                        GPRMC = pynmea2.parse(j['P']) # http://aprs.gids.nl/nmea/\n",
    "                        lon, lat = GPRMC.lon, GPRMC.lat\n",
    "                        lat = float(lat[:2]) + float(lat[2:])/60\n",
    "                        lon = float(lon[:3]) + float(lon[3:])/60\n",
    "                        if GPRMC.lat_dir == 'S': lat *= -1 \n",
    "                        if GPRMC.lon_dir == 'W': lon *= -1\n",
    "                        timestamp = datetime.datetime.combine(GPRMC.datestamp, GPRMC.timestamp).timestamp() \n",
    "                        q_in.join()\n",
    "                        q_in.put((lat, lon, timestamp)) \n",
    "                    if 'N' in j and 'a' in j:\n",
    "                        self.data['N'] = 180 - int(j['N']) \n",
    "                        x, y, z = ast.literal_eval(j['a']) \n",
    "                        self.data['x'], self.data['y'], self.data['z'] = x/-20.48, y/20.48, z \n",
    "                except Exception as e:\n",
    "                    print(e, a)\n",
    "                    break\n",
    "sensor = SENSOR()"
   ]
  },
  {
   "cell_type": "code",
   "execution_count": null,
   "metadata": {
    "code_folding": [
     23,
     37
    ]
   },
   "outputs": [],
   "source": [
    "app = flask.Flask(__name__)\n",
    "flask_cors.CORS(app) \n",
    "app.config['BASIC_AUTH_USERNAME'] = basic_auth_username\n",
    "app.config['BASIC_AUTH_PASSWORD'] = basic_auth_password\n",
    "basic_auth = flask_basicauth.BasicAuth(app)\n",
    "\n",
    "#log = logging.getLogger('werkzeug')\n",
    "#log.setLevel(logging.ERROR) \n",
    "\n",
    "@app.route(\"/\")\n",
    "@basic_auth.required\n",
    "def home(): \n",
    "    return flask.render_template_string(mapPage, \n",
    "        ip_port       = f'{server_ip}:{flask_port}', \n",
    "        username      =  basic_auth_username, \n",
    "        password      =  basic_auth_password)  \n",
    "\n",
    "@app.route(\"/stream.mjpg\")\n",
    "@basic_auth.required\n",
    "def mjpg():    \n",
    "    def generator(): \n",
    "        while True:  \n",
    "            frame = mjpeg.frame \n",
    "            yield f'''--FRAME\\r\\nContent-Type: image/jpeg\\r\\nContent-Length: {len(frame)}\\r\\n\\r\\n'''.encode() \n",
    "            yield frame\n",
    "    r = flask.Response(response=generator(), status=200)\n",
    "    r.headers.extend({'Age':0, 'Content-Type':'multipart/x-mixed-replace; boundary=FRAME',\n",
    "                      'Pragma':'no-cache', 'Cache-Control':'no-cache, private',}) \n",
    "    return r\n",
    "\n",
    "RESPONSE = sensor.data \n",
    "@app.route(\"/sensor\", methods=['GET'])\n",
    "@basic_auth.required\n",
    "def sensor():\n",
    "    global RESPONSE   \n",
    "    newest_timestamp_client_side = flask.request.args.get('timestamp') \n",
    "    q_in.join()  \n",
    "    q_in.put(newest_timestamp_client_side)\n",
    "    q_in.join() \n",
    "    llts = q_out.get() # lat, long, timestamp \n",
    "    if llts:\n",
    "        RESPONSE.update({\n",
    "            \"rover\": {\n",
    "                \"type\": \"Feature\", \n",
    "                \"geometry\": {\n",
    "                    \"type\": \"Point\",\n",
    "                    \"coordinates\": llts[-1][:2] # long lat in GeoJson\n",
    "                }, \n",
    "                \"properties\": {\n",
    "                    \"newestViewCenter\": llts[-1][1::-1], # lat long in Google and Openstreetmap\n",
    "                    \"newestTimestampServerSide\": llts[-1][2],\n",
    "                    \"homePoint\": \"false\"\n",
    "                },\n",
    "            }\n",
    "        })\n",
    "        if newest_timestamp_client_side == 'newcomer': \n",
    "            RESPONSE['rover']['properties']['homePoint'] = llts[-1][1::-1]\n",
    "    if len(llts) > 1: \n",
    "        RESPONSE.update({\n",
    "            \"trail\": {\n",
    "                \"type\": \"Feature\",\n",
    "                \"geometry\": {\n",
    "                    \"type\": \"LineString\",\n",
    "                    \"coordinates\": [i[:2] for i in llts]\n",
    "                }\n",
    "            }\n",
    "        })\n",
    "    return flask.jsonify(RESPONSE)\n",
    "\n",
    "@app.route('/axios.min.js', methods=['GET'])\n",
    "def axios_js():\n",
    "        return flask.send_file('src/axios.min.js', mimetype='application/javascript')\n",
    "    \n",
    "@app.route('/leaflet.rotatedMarker.js', methods=['GET'])\n",
    "def rotatedMarker_js():\n",
    "        return flask.send_file('src/leaflet.rotatedMarker.js', mimetype='application/javascript')\n",
    "    \n",
    "@app.route('/home.png', methods=['GET'])\n",
    "def home_svg():\n",
    "        return flask.send_file('src/home.png', mimetype='image/png')\n",
    "    \n",
    "@app.route('/arrow.png', methods=['GET'])\n",
    "def arrow_svg():\n",
    "        return flask.send_file('src/arrow.png', mimetype='image/png')\n",
    "\n",
    "def flask_in_bg():\n",
    "    app.run(server_ip, flask_port, ssl_context=(server_cert_letsencrypt, server_key_letsencrypt))\n",
    "threading.Thread(target=flask_in_bg).start() \n",
    "#flask_in_bg()"
   ]
  },
  {
   "cell_type": "code",
   "execution_count": null,
   "metadata": {
    "code_folding": []
   },
   "outputs": [],
   "source": []
  },
  {
   "cell_type": "code",
   "execution_count": null,
   "metadata": {},
   "outputs": [],
   "source": []
  }
 ],
 "metadata": {
  "kernelspec": {
   "display_name": "Python 3",
   "language": "python",
   "name": "python3"
  },
  "language_info": {
   "codemirror_mode": {
    "name": "ipython",
    "version": 3
   },
   "file_extension": ".py",
   "mimetype": "text/x-python",
   "name": "python",
   "nbconvert_exporter": "python",
   "pygments_lexer": "ipython3",
   "version": "3.7.4"
  }
 },
 "nbformat": 4,
 "nbformat_minor": 2
}
