{
 "cells": [
  {
   "cell_type": "raw",
   "metadata": {},
   "source": [
    "!pip3 install evdev"
   ]
  },
  {
   "cell_type": "code",
   "execution_count": 1,
   "metadata": {},
   "outputs": [],
   "source": [
    "from evdev import InputDevice, ecodes\n",
    "device = InputDevice('/dev/input/event0')   # Events for Xbox One S Wireless Controller"
   ]
  },
  {
   "cell_type": "code",
   "execution_count": 2,
   "metadata": {},
   "outputs": [],
   "source": [
    "# Establish connection with server\n",
    "import os, ssl, socket\n",
    "server_ip = 'yzlab3.chem.nyu.edu'\n",
    "ctrl_port = 54322  \n",
    "server_cert = 'secret/server.crt'\n",
    "client_cert = 'secret/driver.crt'\n",
    "client_key  = 'secret/driver.key'\n",
    "\n",
    "context = ssl.create_default_context(ssl.Purpose.SERVER_AUTH, cafile=server_cert)\n",
    "context.load_cert_chain(certfile=client_cert, keyfile=client_key)\n",
    "\n",
    "s = socket.socket(socket.AF_INET, socket.SOCK_STREAM)\n",
    "sc = context.wrap_socket(s, server_side=False, server_hostname=server_ip)\n",
    "sc.connect((server_ip, ctrl_port))"
   ]
  },
  {
   "cell_type": "code",
   "execution_count": null,
   "metadata": {},
   "outputs": [],
   "source": [
    "import struct\n",
    "for event in device.read_loop(): \n",
    "    if event.type in [ecodes.EV_ABS, ecodes.EV_KEY]:  \n",
    "        #print(event.code, event.value)\n",
    "        sc.send(struct.pack('<Hi', event.code, event.value)) # Send code and value to server"
   ]
  }
 ],
 "metadata": {
  "kernelspec": {
   "display_name": "Python 3",
   "language": "python",
   "name": "python3"
  },
  "language_info": {
   "codemirror_mode": {
    "name": "ipython",
    "version": 3
   },
   "file_extension": ".py",
   "mimetype": "text/x-python",
   "name": "python",
   "nbconvert_exporter": "python",
   "pygments_lexer": "ipython3",
   "version": "3.7.3"
  }
 },
 "nbformat": 4,
 "nbformat_minor": 2
}
