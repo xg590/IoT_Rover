{
 "cells": [
  {
   "cell_type": "raw",
   "metadata": {},
   "source": [
    "!pip3 install evdev\n",
    "sudo bash -c \"echo 1 > /sys/module/bluetooth/parameters/disable_ertm\"\n",
    "sudo bash -c \"echo -e 'connect 00:9E:C8:63:EA:71\\nexit' | bluetoothctl\""
   ]
  },
  {
   "cell_type": "raw",
   "metadata": {},
   "source": [
    "code2name = {}\n",
    "for type_, code_ in device.capabilities(verbose=True, absinfo=False).items(): \n",
    "    if type_[0] in ['EV_KEY', 'EV_ABS']:\n",
    "        for name, code in code_:  \n",
    "            if isinstance(name,list): \n",
    "                if   'BTN_A' in name: code2name[code] = 'BTN_A'  \n",
    "                elif 'BTN_B' in name: code2name[code] = 'BTN_B'   \n",
    "                elif 'BTN_X' in name: code2name[code] = 'BTN_X'  \n",
    "                elif 'BTN_Y' in name: code2name[code] = 'BTN_Y'  \n",
    "                continue\n",
    "            code2name[code] = name\n",
    "print(code2name)"
   ]
  },
  {
   "cell_type": "raw",
   "metadata": {},
   "source": [
    "for event in device.read_loop(): \n",
    "    if event.type in [ecodes.EV_ABS, ecodes.EV_KEY]: \n",
    "        struct.pack('<hi', event.code, event.value)"
   ]
  },
  {
   "cell_type": "code",
   "execution_count": null,
   "metadata": {},
   "outputs": [],
   "source": [
    "from evdev import InputDevice, ecodes\n",
    "device = InputDevice('/dev/input/event0')   # Events for Xbox One S Wireless Controller"
   ]
  },
  {
   "cell_type": "code",
   "execution_count": null,
   "metadata": {},
   "outputs": [],
   "source": [
    "import time, os, ssl, time, queue, socket, struct, random, threading\n",
    "q = queue.Queue() \n",
    "def heartbeatd(): \n",
    "    while True:\n",
    "        q.join()\n",
    "        print('heartbeat')\n",
    "        q.put(struct.pack('<hi', -1, 0)) # an invalid acton to keep the connection alive, would be ignored by rover but prevent a timeout for the control link\n",
    "        time.sleep(1)\n",
    "threading.Thread(target=heartbeatd).start() "
   ]
  },
  {
   "cell_type": "code",
   "execution_count": null,
   "metadata": {},
   "outputs": [],
   "source": [
    "def controllerd(): \n",
    "    for event in device.read_loop(): \n",
    "        if event.type in [ecodes.EV_ABS, ecodes.EV_KEY]: \n",
    "            q.join()\n",
    "            print('xbox')\n",
    "            q.put(struct.pack('<hi', event.code, event.value)) # put it into a queue\n",
    "threading.Thread(target=controllerd).start() "
   ]
  },
  {
   "cell_type": "code",
   "execution_count": null,
   "metadata": {},
   "outputs": [],
   "source": [
    "# Establish connection with server\n",
    "\n",
    "server_ip = 'guoxiaokang.net'\n",
    "ctrl_port = 54322 \n",
    "server_cert = 'secret/server.crt'\n",
    "client_cert = 'secret/driver.crt'\n",
    "client_key  = 'secret/driver.key'\n",
    "\n",
    "context = ssl.create_default_context(ssl.Purpose.SERVER_AUTH, cafile=server_cert)\n",
    "context.load_cert_chain(certfile=client_cert, keyfile=client_key) \n",
    "\n",
    "while True: \n",
    "    try: \n",
    "        s = socket.socket(socket.AF_INET, socket.SOCK_STREAM)\n",
    "        sc = context.wrap_socket(s, server_side=False, server_hostname=server_ip) \n",
    "        sc.settimeout(30)  \n",
    "        print('Try to connect the server')\n",
    "        sc.connect((server_ip, ctrl_port))  \n",
    "        print('Succeed a connection') \n",
    "        while True:\n",
    "            item = q.get()\n",
    "            print(item)\n",
    "            sc.send(item) # Send code and value to server \n",
    "            q.task_done()\n",
    "    except socket.timeout as e: \n",
    "        sc.shutdown(socket.SHUT_RDWR)\n",
    "        sc.close()  \n",
    "    except BrokenPipeError:\n",
    "        pass\n",
    "    except ConnectionRefusedError:\n",
    "        print('Failed to connect the server and retry the connection in 5 seconds')\n",
    "        time.sleep(5)\n",
    "    except ConnectionResetError:\n",
    "        print('Server is restarting and connection will be retried in 5 seconds')\n",
    "        time.sleep(5)\n",
    "    finally:\n",
    "        q.task_done()"
   ]
  }
 ],
 "metadata": {
  "kernelspec": {
   "display_name": "Python 3",
   "language": "python",
   "name": "python3"
  },
  "language_info": {
   "codemirror_mode": {
    "name": "ipython",
    "version": 3
   },
   "file_extension": ".py",
   "mimetype": "text/x-python",
   "name": "python",
   "nbconvert_exporter": "python",
   "pygments_lexer": "ipython3",
   "version": "3.7.4"
  }
 },
 "nbformat": 4,
 "nbformat_minor": 2
}
