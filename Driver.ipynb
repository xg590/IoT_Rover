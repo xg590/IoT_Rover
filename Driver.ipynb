{
 "cells": [
  {
   "cell_type": "raw",
   "metadata": {},
   "source": [
    "!sudo bash -c \"echo 1 > /sys/module/bluetooth/parameters/disable_ertm\""
   ]
  },
  {
   "cell_type": "raw",
   "metadata": {},
   "source": [
    "!sudo bash -c \"echo -e 'connect 5C:BA:37:CB:B9:35\\nexit' | bluetoothctl\""
   ]
  },
  {
   "cell_type": "raw",
   "metadata": {},
   "source": [
    "!pip3 install evdev\n",
    "code2name = {}\n",
    "for type_, code_ in device.capabilities(verbose=True, absinfo=False).items(): \n",
    "    if type_[0] in ['EV_KEY', 'EV_ABS']:\n",
    "        for name, code in code_:  \n",
    "            if isinstance(name,list): \n",
    "                if   'BTN_A' in name: code2name[code] = 'BTN_A'  \n",
    "                elif 'BTN_B' in name: code2name[code] = 'BTN_B'   \n",
    "                elif 'BTN_X' in name: code2name[code] = 'BTN_X'  \n",
    "                elif 'BTN_Y' in name: code2name[code] = 'BTN_Y'  \n",
    "                continue\n",
    "            code2name[code] = name\n",
    "print(code2name)"
   ]
  },
  {
   "cell_type": "code",
   "execution_count": 1,
   "metadata": {},
   "outputs": [],
   "source": [
    "import time, os, ssl, time, queue, socket, struct, random, threading\n",
    "from evdev import InputDevice, ecodes\n",
    "q = queue.Queue() # cache the command to be send"
   ]
  },
  {
   "cell_type": "code",
   "execution_count": 2,
   "metadata": {},
   "outputs": [],
   "source": [
    "def heartbeat_daemon():\n",
    "# Send an invalid action to keep the connection alive\n",
    "# would be ignored by rover but prevent a timeout for the control link\n",
    "    while True: \n",
    "        q.put(struct.pack('<hi', -1, 0)) \n",
    "        time.sleep(3)\n",
    "threading.Thread(target=heartbeat_daemon).start() "
   ]
  },
  {
   "cell_type": "code",
   "execution_count": 3,
   "metadata": {},
   "outputs": [],
   "source": [
    "device = InputDevice('/dev/input/event0')   # Events for Xbox One S Wireless Controller\n",
    "def controller_daemon(): \n",
    "    for event in device.read_loop(): \n",
    "        if event.type in [ecodes.EV_ABS, ecodes.EV_KEY]:   \n",
    "            q.put(struct.pack('<hi', event.code, event.value)) # put it into a queue\n",
    "threading.Thread(target=controller_daemon).start() "
   ]
  },
  {
   "cell_type": "code",
   "execution_count": 4,
   "metadata": {},
   "outputs": [
    {
     "name": "stdout",
     "output_type": "stream",
     "text": [
      "Try to connect the server\n",
      "Succeed a connection\n"
     ]
    }
   ],
   "source": [
    "# Establish connection with server\n",
    "\n",
    "server_ip = 'guoxiaokang.net'\n",
    "ctrl_port = 54322 \n",
    "server_cert = 'secret/server.crt'\n",
    "client_cert = 'secret/driver.crt'\n",
    "client_key  = 'secret/driver.key'\n",
    "\n",
    "context = ssl.create_default_context(ssl.Purpose.SERVER_AUTH, cafile=server_cert)\n",
    "context.load_cert_chain(certfile=client_cert, keyfile=client_key) \n",
    "\n",
    "def control_link_daemon():\n",
    "    while True: \n",
    "        s = socket.socket(socket.AF_INET, socket.SOCK_STREAM)\n",
    "        ss = context.wrap_socket(s, server_side=False, server_hostname=server_ip) \n",
    "        ss.settimeout(5)  \n",
    "        while True:\n",
    "            try: \n",
    "                print('Try to connect the server')\n",
    "                ss.connect((server_ip, ctrl_port))  \n",
    "                print('Succeed a connection') \n",
    "                break\n",
    "            except (ConnectionRefusedError, ConnectionResetError):\n",
    "                print('Failed to connect the server and retry the connection in 5 seconds')\n",
    "                time.sleep(5)\n",
    "                continue\n",
    "        while True:\n",
    "            try:\n",
    "                item = q.get()\n",
    "                #print(struct.unpack('<hi', item))\n",
    "                ss.send(item) # Send code and value to server  \n",
    "            except socket.timeout as e: \n",
    "                ss.shutdown(socket.SHUT_RDWR)\n",
    "                ss.close()\n",
    "                break\n",
    "            except (ConnectionResetError, BrokenPipeError) as e:\n",
    "                print('Server ended the connection and connection reestablishment will be retried in 5 seconds:', e)\n",
    "                time.sleep(5) \n",
    "                break\n",
    "threading.Thread(target=control_link_daemon).start() "
   ]
  }
 ],
 "metadata": {
  "kernelspec": {
   "display_name": "Python 3",
   "language": "python",
   "name": "python3"
  },
  "language_info": {
   "codemirror_mode": {
    "name": "ipython",
    "version": 3
   },
   "file_extension": ".py",
   "mimetype": "text/x-python",
   "name": "python",
   "nbconvert_exporter": "python",
   "pygments_lexer": "ipython3",
   "version": "3.7.3"
  }
 },
 "nbformat": 4,
 "nbformat_minor": 2
}
