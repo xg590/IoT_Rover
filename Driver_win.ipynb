{
 "cells": [
  {
   "cell_type": "code",
   "execution_count": null,
   "metadata": {},
   "outputs": [],
   "source": [
    "import time, os, ssl, time, queue, socket, struct, random, threading \n",
    "q = queue.Queue() # cache the command to be send"
   ]
  },
  {
   "cell_type": "code",
   "execution_count": null,
   "metadata": {},
   "outputs": [],
   "source": [
    "def heartbeat_daemon():\n",
    "# Send an invalid action to keep the connection alive\n",
    "# would be ignored by rover but prevent a timeout for the control link\n",
    "    while True: \n",
    "        q.put(struct.pack('<hi', -1, 0)) \n",
    "        time.sleep(3)\n",
    "threading.Thread(target=heartbeat_daemon).start() "
   ]
  },
  {
   "cell_type": "code",
   "execution_count": null,
   "metadata": {},
   "outputs": [],
   "source": [
    "code2num = {    \n",
    "      'ABS_X':  0 ,# \n",
    "      'ABS_Y':  1 ,# -32768~32767\n",
    "     'ABS_RX':  2 ,# \n",
    "     'ABS_RY':  3 ,# \n",
    "      'ABS_Z':  4 ,# Break\n",
    "     'ABS_RZ':  5 ,# Gas   0~255\n",
    "  'ABS_HAT0Y':  6 ,# \n",
    "  'ABS_HAT0X':  7 ,# \n",
    " 'BTN_SELECT':  8 ,# \n",
    "  'BTN_START':  9 ,# \n",
    "  'BTN_SOUTH': 10 ,# A\n",
    "   'BTN_EAST': 11 ,# B\n",
    "  'BTN_NORTH': 12 ,# Y\n",
    "   'BTN_WEST': 13 ,# X\n",
    "     'BTN_TR': 14 ,# \n",
    "     'BTN_TL': 15 ,# \n",
    "}"
   ]
  },
  {
   "cell_type": "raw",
   "metadata": {},
   "source": [
    "import inputs\n",
    "inputs.get_gamepad()"
   ]
  },
  {
   "cell_type": "code",
   "execution_count": null,
   "metadata": {},
   "outputs": [],
   "source": [
    "#!pip install inputs\n",
    "import inputs # print(inputs.devices.gamepads) \n",
    "def controller_daemon(): \n",
    "    while True: \n",
    "        try:\n",
    "            for event in inputs.get_gamepad():    # Events for Xbox One S Wireless Controller\n",
    "                if event.ev_type in ['Key', 'Absolute']: \n",
    "                    q.put(struct.pack('<hi', code2num[event.code], event.state)) # put it into a queue\n",
    "        except inputs.UnpluggedError as e:\n",
    "            print(e)\n",
    "            time.sleep(15)\n",
    "threading.Thread(target=controller_daemon).start()"
   ]
  },
  {
   "cell_type": "code",
   "execution_count": null,
   "metadata": {},
   "outputs": [],
   "source": [
    "# Establish connection with server\n",
    "\n",
    "server_ip = 'yzlab3.chem.nyu.edu'\n",
    "ctrl_port = 54322 \n",
    "server_cert = 'secret/server.crt'\n",
    "client_cert = 'secret/driver.crt'\n",
    "client_key  = 'secret/driver.key'\n",
    "\n",
    "context = ssl.create_default_context(ssl.Purpose.SERVER_AUTH, cafile=server_cert)\n",
    "context.load_cert_chain(certfile=client_cert, keyfile=client_key) \n",
    "\n",
    "def control_link_daemon():\n",
    "    while True: \n",
    "        s = socket.socket(socket.AF_INET, socket.SOCK_STREAM)\n",
    "        ss = context.wrap_socket(s, server_side=False, server_hostname=server_ip) \n",
    "        ss.settimeout(5)  \n",
    "        while True:\n",
    "            try: \n",
    "                print('Try to connect the server')\n",
    "                ss.connect((server_ip, ctrl_port))  \n",
    "                print('Succeed a connection') \n",
    "                break\n",
    "            except (ConnectionRefusedError, ConnectionResetError):\n",
    "                print('Failed to connect the server and retry the connection in 5 seconds')\n",
    "                time.sleep(5)\n",
    "                continue\n",
    "        while True:\n",
    "            try:\n",
    "                item = q.get()\n",
    "                #print(struct.unpack('<hi', item))\n",
    "                ss.send(item) # Send code and value to server  \n",
    "            except socket.timeout as e: \n",
    "                ss.shutdown(socket.SHUT_RDWR)\n",
    "                ss.close()\n",
    "                break\n",
    "            except (ConnectionAbortedError, ConnectionResetError, BrokenPipeError) as e:\n",
    "                print('Server ended the connection and connection reestablishment will be retried in 5 seconds:', e)\n",
    "                time.sleep(5) \n",
    "                break\n",
    "threading.Thread(target=control_link_daemon).start() "
   ]
  }
 ],
 "metadata": {
  "kernelspec": {
   "display_name": "Python 3",
   "language": "python",
   "name": "python3"
  },
  "language_info": {
   "codemirror_mode": {
    "name": "ipython",
    "version": 3
   },
   "file_extension": ".py",
   "mimetype": "text/x-python",
   "name": "python",
   "nbconvert_exporter": "python",
   "pygments_lexer": "ipython3",
   "version": "3.7.4"
  }
 },
 "nbformat": 4,
 "nbformat_minor": 2
}
